{
 "cells": [
  {
   "cell_type": "markdown",
   "metadata": {
    "cell_id": "e36b6ee0750c4d53b79a110eacd60596",
    "deepnote_cell_type": "text-cell-p",
    "formattedRanges": []
   },
   "source": [
    "**Giovano Panatta**"
   ]
  },
  {
   "cell_type": "markdown",
   "metadata": {
    "cell_id": "c03c9c9ac5df46b79b031a2e7e0c12e5",
    "deepnote_cell_type": "text-cell-p",
    "formattedRanges": [
     {
      "fromCodePoint": 0,
      "marks": {
       "bold": true
      },
      "toCodePoint": 19,
      "type": "marks"
     }
    ]
   },
   "source": [
    "**Análise de Dados**"
   ]
  },
  {
   "cell_type": "markdown",
   "metadata": {
    "cell_id": "8746f15130c54500afaa5d7f444b8f71",
    "deepnote_cell_type": "text-cell-p",
    "formattedRanges": [
     {
      "fromCodePoint": 0,
      "marks": {
       "bold": true
      },
      "toCodePoint": 223,
      "type": "marks"
     }
    ]
   },
   "source": [
    "**Vamos carregar o arquivo \"credit.csv\" em um DataFrame. O arquivo \"Credit_Dataset_Description.txt\" contém a descrição de todas as variáveis presentes no conjunto de dados.**"
   ]
  },
  {
   "cell_type": "code",
   "execution_count": 23,
   "metadata": {
    "cell_id": "e326040545ac4ad5a3a7d583fdc8449a",
    "deepnote_cell_type": "code",
    "deepnote_to_be_reexecuted": false,
    "execution_millis": 45,
    "execution_start": 1695829675108,
    "source_hash": null
   },
   "outputs": [],
   "source": [
    "#Importando a blbioteca pandas\n",
    "import pandas as pd"
   ]
  },
  {
   "cell_type": "code",
   "execution_count": 24,
   "metadata": {
    "cell_id": "436fa993832d40ebbd1402f0d84bf32a",
    "deepnote_cell_type": "code",
    "deepnote_to_be_reexecuted": false,
    "execution_millis": 353,
    "execution_start": 1695829675150,
    "source_hash": null
   },
   "outputs": [
    {
     "data": {
      "text/html": [
       "<div>\n",
       "<style scoped>\n",
       "    .dataframe tbody tr th:only-of-type {\n",
       "        vertical-align: middle;\n",
       "    }\n",
       "\n",
       "    .dataframe tbody tr th {\n",
       "        vertical-align: top;\n",
       "    }\n",
       "\n",
       "    .dataframe thead th {\n",
       "        text-align: right;\n",
       "    }\n",
       "</style>\n",
       "<table border=\"1\" class=\"dataframe\">\n",
       "  <thead>\n",
       "    <tr style=\"text-align: right;\">\n",
       "      <th></th>\n",
       "      <th>checking_balance</th>\n",
       "      <th>months_loan_duration</th>\n",
       "      <th>credit_history</th>\n",
       "      <th>purpose</th>\n",
       "      <th>amount</th>\n",
       "      <th>savings_balance</th>\n",
       "      <th>employment_length</th>\n",
       "      <th>installment_rate</th>\n",
       "      <th>personal_status</th>\n",
       "      <th>other_debtors</th>\n",
       "      <th>...</th>\n",
       "      <th>property</th>\n",
       "      <th>age</th>\n",
       "      <th>installment_plan</th>\n",
       "      <th>housing</th>\n",
       "      <th>existing_credits</th>\n",
       "      <th>default</th>\n",
       "      <th>dependents</th>\n",
       "      <th>telephone</th>\n",
       "      <th>foreign_worker</th>\n",
       "      <th>job</th>\n",
       "    </tr>\n",
       "  </thead>\n",
       "  <tbody>\n",
       "    <tr>\n",
       "      <th>0</th>\n",
       "      <td>&lt; 0 DM</td>\n",
       "      <td>6</td>\n",
       "      <td>critical</td>\n",
       "      <td>radio/tv</td>\n",
       "      <td>1169</td>\n",
       "      <td>unknown</td>\n",
       "      <td>&gt; 7 yrs</td>\n",
       "      <td>4</td>\n",
       "      <td>single male</td>\n",
       "      <td>none</td>\n",
       "      <td>...</td>\n",
       "      <td>real estate</td>\n",
       "      <td>67</td>\n",
       "      <td>none</td>\n",
       "      <td>own</td>\n",
       "      <td>2</td>\n",
       "      <td>1</td>\n",
       "      <td>1</td>\n",
       "      <td>yes</td>\n",
       "      <td>yes</td>\n",
       "      <td>skilled employee</td>\n",
       "    </tr>\n",
       "    <tr>\n",
       "      <th>1</th>\n",
       "      <td>1 - 200 DM</td>\n",
       "      <td>48</td>\n",
       "      <td>repaid</td>\n",
       "      <td>radio/tv</td>\n",
       "      <td>5951</td>\n",
       "      <td>&lt; 100 DM</td>\n",
       "      <td>1 - 4 yrs</td>\n",
       "      <td>2</td>\n",
       "      <td>female</td>\n",
       "      <td>none</td>\n",
       "      <td>...</td>\n",
       "      <td>real estate</td>\n",
       "      <td>22</td>\n",
       "      <td>none</td>\n",
       "      <td>own</td>\n",
       "      <td>1</td>\n",
       "      <td>2</td>\n",
       "      <td>1</td>\n",
       "      <td>none</td>\n",
       "      <td>yes</td>\n",
       "      <td>skilled employee</td>\n",
       "    </tr>\n",
       "    <tr>\n",
       "      <th>2</th>\n",
       "      <td>unknown</td>\n",
       "      <td>12</td>\n",
       "      <td>critical</td>\n",
       "      <td>education</td>\n",
       "      <td>2096</td>\n",
       "      <td>&lt; 100 DM</td>\n",
       "      <td>4 - 7 yrs</td>\n",
       "      <td>2</td>\n",
       "      <td>single male</td>\n",
       "      <td>none</td>\n",
       "      <td>...</td>\n",
       "      <td>real estate</td>\n",
       "      <td>49</td>\n",
       "      <td>none</td>\n",
       "      <td>own</td>\n",
       "      <td>1</td>\n",
       "      <td>1</td>\n",
       "      <td>2</td>\n",
       "      <td>none</td>\n",
       "      <td>yes</td>\n",
       "      <td>unskilled resident</td>\n",
       "    </tr>\n",
       "    <tr>\n",
       "      <th>3</th>\n",
       "      <td>&lt; 0 DM</td>\n",
       "      <td>42</td>\n",
       "      <td>repaid</td>\n",
       "      <td>furniture</td>\n",
       "      <td>7882</td>\n",
       "      <td>&lt; 100 DM</td>\n",
       "      <td>4 - 7 yrs</td>\n",
       "      <td>2</td>\n",
       "      <td>single male</td>\n",
       "      <td>guarantor</td>\n",
       "      <td>...</td>\n",
       "      <td>building society savings</td>\n",
       "      <td>45</td>\n",
       "      <td>none</td>\n",
       "      <td>for free</td>\n",
       "      <td>1</td>\n",
       "      <td>1</td>\n",
       "      <td>2</td>\n",
       "      <td>none</td>\n",
       "      <td>yes</td>\n",
       "      <td>skilled employee</td>\n",
       "    </tr>\n",
       "    <tr>\n",
       "      <th>4</th>\n",
       "      <td>&lt; 0 DM</td>\n",
       "      <td>24</td>\n",
       "      <td>delayed</td>\n",
       "      <td>car (new)</td>\n",
       "      <td>4870</td>\n",
       "      <td>&lt; 100 DM</td>\n",
       "      <td>1 - 4 yrs</td>\n",
       "      <td>3</td>\n",
       "      <td>single male</td>\n",
       "      <td>none</td>\n",
       "      <td>...</td>\n",
       "      <td>unknown/none</td>\n",
       "      <td>53</td>\n",
       "      <td>none</td>\n",
       "      <td>for free</td>\n",
       "      <td>2</td>\n",
       "      <td>2</td>\n",
       "      <td>2</td>\n",
       "      <td>none</td>\n",
       "      <td>yes</td>\n",
       "      <td>skilled employee</td>\n",
       "    </tr>\n",
       "  </tbody>\n",
       "</table>\n",
       "<p>5 rows × 21 columns</p>\n",
       "</div>"
      ],
      "text/plain": [
       "  checking_balance  months_loan_duration credit_history    purpose  amount  \\\n",
       "0           < 0 DM                     6       critical   radio/tv    1169   \n",
       "1       1 - 200 DM                    48         repaid   radio/tv    5951   \n",
       "2          unknown                    12       critical  education    2096   \n",
       "3           < 0 DM                    42         repaid  furniture    7882   \n",
       "4           < 0 DM                    24        delayed  car (new)    4870   \n",
       "\n",
       "  savings_balance employment_length  installment_rate personal_status  \\\n",
       "0         unknown           > 7 yrs                 4     single male   \n",
       "1        < 100 DM         1 - 4 yrs                 2          female   \n",
       "2        < 100 DM         4 - 7 yrs                 2     single male   \n",
       "3        < 100 DM         4 - 7 yrs                 2     single male   \n",
       "4        < 100 DM         1 - 4 yrs                 3     single male   \n",
       "\n",
       "  other_debtors  ...                  property age  installment_plan  \\\n",
       "0          none  ...               real estate  67              none   \n",
       "1          none  ...               real estate  22              none   \n",
       "2          none  ...               real estate  49              none   \n",
       "3     guarantor  ...  building society savings  45              none   \n",
       "4          none  ...              unknown/none  53              none   \n",
       "\n",
       "    housing existing_credits  default  dependents  telephone foreign_worker  \\\n",
       "0       own                2        1           1        yes            yes   \n",
       "1       own                1        2           1       none            yes   \n",
       "2       own                1        1           2       none            yes   \n",
       "3  for free                1        1           2       none            yes   \n",
       "4  for free                2        2           2       none            yes   \n",
       "\n",
       "                  job  \n",
       "0    skilled employee  \n",
       "1    skilled employee  \n",
       "2  unskilled resident  \n",
       "3    skilled employee  \n",
       "4    skilled employee  \n",
       "\n",
       "[5 rows x 21 columns]"
      ]
     },
     "execution_count": 24,
     "metadata": {},
     "output_type": "execute_result"
    }
   ],
   "source": [
    "#Carregando o arquivo csv do diretório e o transformando em um DF\n",
    "data = pd.read_csv(\"credit.csv\")\n",
    "\n",
    "#Visualizando o DF\n",
    "data.head()\n"
   ]
  },
  {
   "cell_type": "markdown",
   "metadata": {
    "cell_id": "a3388baa8c3b457e93d51c95e085eda1",
    "deepnote_cell_type": "text-cell-p",
    "formattedRanges": [
     {
      "fromCodePoint": 0,
      "marks": {
       "bold": true
      },
      "toCodePoint": 68,
      "type": "marks"
     }
    ]
   },
   "source": [
    "**Vamos apresentar o tipo de cada uma das variáveis do conjunto de dados.**"
   ]
  },
  {
   "cell_type": "code",
   "execution_count": 25,
   "metadata": {
    "cell_id": "1a53f3a01c9a4038921a0f7aef4556a7",
    "deepnote_cell_type": "code",
    "deepnote_to_be_reexecuted": false,
    "execution_millis": 37,
    "execution_start": 1695829675248,
    "source_hash": null
   },
   "outputs": [
    {
     "data": {
      "text/plain": [
       "checking_balance        object\n",
       "months_loan_duration     int64\n",
       "credit_history          object\n",
       "purpose                 object\n",
       "amount                   int64\n",
       "savings_balance         object\n",
       "employment_length       object\n",
       "installment_rate         int64\n",
       "personal_status         object\n",
       "other_debtors           object\n",
       "residence_history        int64\n",
       "property                object\n",
       "age                      int64\n",
       "installment_plan        object\n",
       "housing                 object\n",
       "existing_credits         int64\n",
       "default                  int64\n",
       "dependents               int64\n",
       "telephone               object\n",
       "foreign_worker          object\n",
       "job                     object\n",
       "dtype: object"
      ]
     },
     "execution_count": 25,
     "metadata": {},
     "output_type": "execute_result"
    }
   ],
   "source": [
    "#Utilizando o dtypes. Nota: os dados estão distribuídos em strings e integers\n",
    "data.dtypes\n"
   ]
  },
  {
   "cell_type": "markdown",
   "metadata": {
    "cell_id": "9281d36d530b4be8a64fd543927c299b",
    "deepnote_cell_type": "text-cell-p",
    "formattedRanges": [
     {
      "fromCodePoint": 0,
      "marks": {
       "bold": true
      },
      "toCodePoint": 174,
      "type": "marks"
     }
    ]
   },
   "source": [
    "Vamos apresentar as medidas estatísticas básicas (média, mediana, percentis, etc.) das variáveis numéricas do conjunto de dados utilizando um único método da biblioteca Pandas"
   ]
  },
  {
   "cell_type": "code",
   "execution_count": 6,
   "metadata": {
    "cell_id": "8393d5ab0ac946c5aa6d73d5bb480be7",
    "deepnote_cell_type": "code",
    "deepnote_to_be_reexecuted": false,
    "execution_millis": 273,
    "execution_start": 1695829675259,
    "source_hash": null
   },
   "outputs": [
    {
     "data": {
      "text/html": [
       "<div>\n",
       "<style scoped>\n",
       "    .dataframe tbody tr th:only-of-type {\n",
       "        vertical-align: middle;\n",
       "    }\n",
       "\n",
       "    .dataframe tbody tr th {\n",
       "        vertical-align: top;\n",
       "    }\n",
       "\n",
       "    .dataframe thead th {\n",
       "        text-align: right;\n",
       "    }\n",
       "</style>\n",
       "<table border=\"1\" class=\"dataframe\">\n",
       "  <thead>\n",
       "    <tr style=\"text-align: right;\">\n",
       "      <th></th>\n",
       "      <th>months_loan_duration</th>\n",
       "      <th>amount</th>\n",
       "      <th>installment_rate</th>\n",
       "      <th>residence_history</th>\n",
       "      <th>age</th>\n",
       "      <th>existing_credits</th>\n",
       "      <th>default</th>\n",
       "      <th>dependents</th>\n",
       "    </tr>\n",
       "  </thead>\n",
       "  <tbody>\n",
       "    <tr>\n",
       "      <th>count</th>\n",
       "      <td>1000.000000</td>\n",
       "      <td>1000.000000</td>\n",
       "      <td>1000.000000</td>\n",
       "      <td>1000.000000</td>\n",
       "      <td>1000.000000</td>\n",
       "      <td>1000.000000</td>\n",
       "      <td>1000.000000</td>\n",
       "      <td>1000.000000</td>\n",
       "    </tr>\n",
       "    <tr>\n",
       "      <th>mean</th>\n",
       "      <td>20.903000</td>\n",
       "      <td>3271.258000</td>\n",
       "      <td>2.973000</td>\n",
       "      <td>2.845000</td>\n",
       "      <td>35.546000</td>\n",
       "      <td>1.407000</td>\n",
       "      <td>1.300000</td>\n",
       "      <td>1.155000</td>\n",
       "    </tr>\n",
       "    <tr>\n",
       "      <th>std</th>\n",
       "      <td>12.058814</td>\n",
       "      <td>2822.736876</td>\n",
       "      <td>1.118715</td>\n",
       "      <td>1.103718</td>\n",
       "      <td>11.375469</td>\n",
       "      <td>0.577654</td>\n",
       "      <td>0.458487</td>\n",
       "      <td>0.362086</td>\n",
       "    </tr>\n",
       "    <tr>\n",
       "      <th>min</th>\n",
       "      <td>4.000000</td>\n",
       "      <td>250.000000</td>\n",
       "      <td>1.000000</td>\n",
       "      <td>1.000000</td>\n",
       "      <td>19.000000</td>\n",
       "      <td>1.000000</td>\n",
       "      <td>1.000000</td>\n",
       "      <td>1.000000</td>\n",
       "    </tr>\n",
       "    <tr>\n",
       "      <th>25%</th>\n",
       "      <td>12.000000</td>\n",
       "      <td>1365.500000</td>\n",
       "      <td>2.000000</td>\n",
       "      <td>2.000000</td>\n",
       "      <td>27.000000</td>\n",
       "      <td>1.000000</td>\n",
       "      <td>1.000000</td>\n",
       "      <td>1.000000</td>\n",
       "    </tr>\n",
       "    <tr>\n",
       "      <th>50%</th>\n",
       "      <td>18.000000</td>\n",
       "      <td>2319.500000</td>\n",
       "      <td>3.000000</td>\n",
       "      <td>3.000000</td>\n",
       "      <td>33.000000</td>\n",
       "      <td>1.000000</td>\n",
       "      <td>1.000000</td>\n",
       "      <td>1.000000</td>\n",
       "    </tr>\n",
       "    <tr>\n",
       "      <th>75%</th>\n",
       "      <td>24.000000</td>\n",
       "      <td>3972.250000</td>\n",
       "      <td>4.000000</td>\n",
       "      <td>4.000000</td>\n",
       "      <td>42.000000</td>\n",
       "      <td>2.000000</td>\n",
       "      <td>2.000000</td>\n",
       "      <td>1.000000</td>\n",
       "    </tr>\n",
       "    <tr>\n",
       "      <th>max</th>\n",
       "      <td>72.000000</td>\n",
       "      <td>18424.000000</td>\n",
       "      <td>4.000000</td>\n",
       "      <td>4.000000</td>\n",
       "      <td>75.000000</td>\n",
       "      <td>4.000000</td>\n",
       "      <td>2.000000</td>\n",
       "      <td>2.000000</td>\n",
       "    </tr>\n",
       "  </tbody>\n",
       "</table>\n",
       "</div>"
      ],
      "text/plain": [
       "       months_loan_duration        amount  installment_rate  \\\n",
       "count           1000.000000   1000.000000       1000.000000   \n",
       "mean              20.903000   3271.258000          2.973000   \n",
       "std               12.058814   2822.736876          1.118715   \n",
       "min                4.000000    250.000000          1.000000   \n",
       "25%               12.000000   1365.500000          2.000000   \n",
       "50%               18.000000   2319.500000          3.000000   \n",
       "75%               24.000000   3972.250000          4.000000   \n",
       "max               72.000000  18424.000000          4.000000   \n",
       "\n",
       "       residence_history          age  existing_credits      default  \\\n",
       "count        1000.000000  1000.000000       1000.000000  1000.000000   \n",
       "mean            2.845000    35.546000          1.407000     1.300000   \n",
       "std             1.103718    11.375469          0.577654     0.458487   \n",
       "min             1.000000    19.000000          1.000000     1.000000   \n",
       "25%             2.000000    27.000000          1.000000     1.000000   \n",
       "50%             3.000000    33.000000          1.000000     1.000000   \n",
       "75%             4.000000    42.000000          2.000000     2.000000   \n",
       "max             4.000000    75.000000          4.000000     2.000000   \n",
       "\n",
       "        dependents  \n",
       "count  1000.000000  \n",
       "mean      1.155000  \n",
       "std       0.362086  \n",
       "min       1.000000  \n",
       "25%       1.000000  \n",
       "50%       1.000000  \n",
       "75%       1.000000  \n",
       "max       2.000000  "
      ]
     },
     "execution_count": 6,
     "metadata": {},
     "output_type": "execute_result"
    }
   ],
   "source": [
    "#Utilizando o método describe() do Pandas\n",
    "data.describe()"
   ]
  },
  {
   "cell_type": "markdown",
   "metadata": {
    "cell_id": "801c177a993e48bf86a482c43ee768bc",
    "deepnote_cell_type": "text-cell-p",
    "formattedRanges": [
     {
      "fromCodePoint": 0,
      "marks": {
       "bold": true
      },
      "toCodePoint": 219,
      "type": "marks"
     }
    ]
   },
   "source": [
    "Agora criaremos um objeto para armazenar a média e a mediana dos dados presentes na variável \"age\". Nosso próximo passo é escolher um nome apropriado para esse objeto."
   ]
  },
  {
   "cell_type": "code",
   "execution_count": 7,
   "metadata": {
    "cell_id": "cac4461080f245b7ba00dd878ab09af8",
    "deepnote_cell_type": "code",
    "deepnote_to_be_reexecuted": false,
    "execution_millis": 19,
    "execution_start": 1695829675329,
    "source_hash": null
   },
   "outputs": [
    {
     "data": {
      "text/plain": [
       "{'media': 35.546, 'mediana': 33.0}"
      ]
     },
     "execution_count": 7,
     "metadata": {},
     "output_type": "execute_result"
    }
   ],
   "source": [
    "age2 = {\n",
    "    \"media\": data[\"age\"].mean(),\n",
    "    \"mediana\": data[\"age\"].median()\n",
    "\n",
    "}\n",
    "\n",
    "age2"
   ]
  },
  {
   "cell_type": "markdown",
   "metadata": {
    "cell_id": "a4e1416d09fa4aaca1a49e507500b271",
    "deepnote_cell_type": "text-cell-p",
    "formattedRanges": [
     {
      "fromCodePoint": 0,
      "marks": {
       "bold": true
      },
      "toCodePoint": 133,
      "type": "marks"
     }
    ]
   },
   "source": [
    "Vamos criar e apresentar um novo DataFrame, escolhendo um nome apropriado, que contenha apenas as variáveis do tipo objeto do DataFrame original."
   ]
  },
  {
   "cell_type": "code",
   "execution_count": 8,
   "metadata": {
    "cell_id": "1dbaab2dd1744655bc19446c663652be",
    "deepnote_cell_type": "code",
    "deepnote_to_be_reexecuted": false,
    "execution_millis": 458,
    "execution_start": 1695829675350,
    "source_hash": null
   },
   "outputs": [
    {
     "data": {
      "text/html": [
       "<div>\n",
       "<style scoped>\n",
       "    .dataframe tbody tr th:only-of-type {\n",
       "        vertical-align: middle;\n",
       "    }\n",
       "\n",
       "    .dataframe tbody tr th {\n",
       "        vertical-align: top;\n",
       "    }\n",
       "\n",
       "    .dataframe thead th {\n",
       "        text-align: right;\n",
       "    }\n",
       "</style>\n",
       "<table border=\"1\" class=\"dataframe\">\n",
       "  <thead>\n",
       "    <tr style=\"text-align: right;\">\n",
       "      <th></th>\n",
       "      <th>checking_balance</th>\n",
       "      <th>credit_history</th>\n",
       "      <th>purpose</th>\n",
       "      <th>savings_balance</th>\n",
       "      <th>employment_length</th>\n",
       "      <th>personal_status</th>\n",
       "      <th>other_debtors</th>\n",
       "      <th>property</th>\n",
       "      <th>installment_plan</th>\n",
       "      <th>housing</th>\n",
       "      <th>telephone</th>\n",
       "      <th>foreign_worker</th>\n",
       "      <th>job</th>\n",
       "    </tr>\n",
       "  </thead>\n",
       "  <tbody>\n",
       "    <tr>\n",
       "      <th>0</th>\n",
       "      <td>&lt; 0 DM</td>\n",
       "      <td>critical</td>\n",
       "      <td>radio/tv</td>\n",
       "      <td>unknown</td>\n",
       "      <td>&gt; 7 yrs</td>\n",
       "      <td>single male</td>\n",
       "      <td>none</td>\n",
       "      <td>real estate</td>\n",
       "      <td>none</td>\n",
       "      <td>own</td>\n",
       "      <td>yes</td>\n",
       "      <td>yes</td>\n",
       "      <td>skilled employee</td>\n",
       "    </tr>\n",
       "    <tr>\n",
       "      <th>1</th>\n",
       "      <td>1 - 200 DM</td>\n",
       "      <td>repaid</td>\n",
       "      <td>radio/tv</td>\n",
       "      <td>&lt; 100 DM</td>\n",
       "      <td>1 - 4 yrs</td>\n",
       "      <td>female</td>\n",
       "      <td>none</td>\n",
       "      <td>real estate</td>\n",
       "      <td>none</td>\n",
       "      <td>own</td>\n",
       "      <td>none</td>\n",
       "      <td>yes</td>\n",
       "      <td>skilled employee</td>\n",
       "    </tr>\n",
       "    <tr>\n",
       "      <th>2</th>\n",
       "      <td>unknown</td>\n",
       "      <td>critical</td>\n",
       "      <td>education</td>\n",
       "      <td>&lt; 100 DM</td>\n",
       "      <td>4 - 7 yrs</td>\n",
       "      <td>single male</td>\n",
       "      <td>none</td>\n",
       "      <td>real estate</td>\n",
       "      <td>none</td>\n",
       "      <td>own</td>\n",
       "      <td>none</td>\n",
       "      <td>yes</td>\n",
       "      <td>unskilled resident</td>\n",
       "    </tr>\n",
       "    <tr>\n",
       "      <th>3</th>\n",
       "      <td>&lt; 0 DM</td>\n",
       "      <td>repaid</td>\n",
       "      <td>furniture</td>\n",
       "      <td>&lt; 100 DM</td>\n",
       "      <td>4 - 7 yrs</td>\n",
       "      <td>single male</td>\n",
       "      <td>guarantor</td>\n",
       "      <td>building society savings</td>\n",
       "      <td>none</td>\n",
       "      <td>for free</td>\n",
       "      <td>none</td>\n",
       "      <td>yes</td>\n",
       "      <td>skilled employee</td>\n",
       "    </tr>\n",
       "    <tr>\n",
       "      <th>4</th>\n",
       "      <td>&lt; 0 DM</td>\n",
       "      <td>delayed</td>\n",
       "      <td>car (new)</td>\n",
       "      <td>&lt; 100 DM</td>\n",
       "      <td>1 - 4 yrs</td>\n",
       "      <td>single male</td>\n",
       "      <td>none</td>\n",
       "      <td>unknown/none</td>\n",
       "      <td>none</td>\n",
       "      <td>for free</td>\n",
       "      <td>none</td>\n",
       "      <td>yes</td>\n",
       "      <td>skilled employee</td>\n",
       "    </tr>\n",
       "  </tbody>\n",
       "</table>\n",
       "</div>"
      ],
      "text/plain": [
       "  checking_balance credit_history    purpose savings_balance  \\\n",
       "0           < 0 DM       critical   radio/tv         unknown   \n",
       "1       1 - 200 DM         repaid   radio/tv        < 100 DM   \n",
       "2          unknown       critical  education        < 100 DM   \n",
       "3           < 0 DM         repaid  furniture        < 100 DM   \n",
       "4           < 0 DM        delayed  car (new)        < 100 DM   \n",
       "\n",
       "  employment_length personal_status other_debtors                  property  \\\n",
       "0           > 7 yrs     single male          none               real estate   \n",
       "1         1 - 4 yrs          female          none               real estate   \n",
       "2         4 - 7 yrs     single male          none               real estate   \n",
       "3         4 - 7 yrs     single male     guarantor  building society savings   \n",
       "4         1 - 4 yrs     single male          none              unknown/none   \n",
       "\n",
       "  installment_plan   housing telephone foreign_worker                 job  \n",
       "0             none       own       yes            yes    skilled employee  \n",
       "1             none       own      none            yes    skilled employee  \n",
       "2             none       own      none            yes  unskilled resident  \n",
       "3             none  for free      none            yes    skilled employee  \n",
       "4             none  for free      none            yes    skilled employee  "
      ]
     },
     "execution_count": 8,
     "metadata": {},
     "output_type": "execute_result"
    }
   ],
   "source": [
    "data_object = data.select_dtypes(include='object')\n",
    "data_object.head()"
   ]
  },
  {
   "cell_type": "markdown",
   "metadata": {
    "cell_id": "73340757b6f74ec38ed7631f9635ca59",
    "deepnote_cell_type": "text-cell-p",
    "formattedRanges": [
     {
      "fromCodePoint": 0,
      "marks": {
       "bold": true
      },
      "toCodePoint": 232,
      "type": "marks"
     }
    ]
   },
   "source": [
    "Agora vamos criar e apresentar um novo DataFrame, escolhendo um nome apropriado, contendo apenas as observações entre as linhas 155 e 705 do DataFrame criado no item 5."
   ]
  },
  {
   "cell_type": "code",
   "execution_count": 9,
   "metadata": {
    "cell_id": "108f86e6328043eba94d3d4ce674e39c",
    "deepnote_cell_type": "code",
    "deepnote_to_be_reexecuted": false,
    "execution_millis": 287,
    "execution_start": 1695829675382,
    "source_hash": null
   },
   "outputs": [
    {
     "data": {
      "text/html": [
       "<div>\n",
       "<style scoped>\n",
       "    .dataframe tbody tr th:only-of-type {\n",
       "        vertical-align: middle;\n",
       "    }\n",
       "\n",
       "    .dataframe tbody tr th {\n",
       "        vertical-align: top;\n",
       "    }\n",
       "\n",
       "    .dataframe thead th {\n",
       "        text-align: right;\n",
       "    }\n",
       "</style>\n",
       "<table border=\"1\" class=\"dataframe\">\n",
       "  <thead>\n",
       "    <tr style=\"text-align: right;\">\n",
       "      <th></th>\n",
       "      <th>checking_balance</th>\n",
       "      <th>credit_history</th>\n",
       "      <th>purpose</th>\n",
       "      <th>savings_balance</th>\n",
       "      <th>employment_length</th>\n",
       "      <th>personal_status</th>\n",
       "      <th>other_debtors</th>\n",
       "      <th>property</th>\n",
       "      <th>installment_plan</th>\n",
       "      <th>housing</th>\n",
       "      <th>telephone</th>\n",
       "      <th>foreign_worker</th>\n",
       "      <th>job</th>\n",
       "    </tr>\n",
       "  </thead>\n",
       "  <tbody>\n",
       "    <tr>\n",
       "      <th>155</th>\n",
       "      <td>&lt; 0 DM</td>\n",
       "      <td>repaid</td>\n",
       "      <td>furniture</td>\n",
       "      <td>&lt; 100 DM</td>\n",
       "      <td>1 - 4 yrs</td>\n",
       "      <td>female</td>\n",
       "      <td>none</td>\n",
       "      <td>other</td>\n",
       "      <td>none</td>\n",
       "      <td>rent</td>\n",
       "      <td>none</td>\n",
       "      <td>yes</td>\n",
       "      <td>skilled employee</td>\n",
       "    </tr>\n",
       "    <tr>\n",
       "      <th>156</th>\n",
       "      <td>&lt; 0 DM</td>\n",
       "      <td>critical</td>\n",
       "      <td>repairs</td>\n",
       "      <td>101 - 500 DM</td>\n",
       "      <td>&gt; 7 yrs</td>\n",
       "      <td>single male</td>\n",
       "      <td>guarantor</td>\n",
       "      <td>real estate</td>\n",
       "      <td>none</td>\n",
       "      <td>own</td>\n",
       "      <td>none</td>\n",
       "      <td>no</td>\n",
       "      <td>skilled employee</td>\n",
       "    </tr>\n",
       "    <tr>\n",
       "      <th>157</th>\n",
       "      <td>&lt; 0 DM</td>\n",
       "      <td>fully repaid this bank</td>\n",
       "      <td>retraining</td>\n",
       "      <td>&lt; 100 DM</td>\n",
       "      <td>&gt; 7 yrs</td>\n",
       "      <td>married male</td>\n",
       "      <td>none</td>\n",
       "      <td>other</td>\n",
       "      <td>bank</td>\n",
       "      <td>own</td>\n",
       "      <td>none</td>\n",
       "      <td>yes</td>\n",
       "      <td>unskilled resident</td>\n",
       "    </tr>\n",
       "    <tr>\n",
       "      <th>158</th>\n",
       "      <td>1 - 200 DM</td>\n",
       "      <td>repaid</td>\n",
       "      <td>car (new)</td>\n",
       "      <td>101 - 500 DM</td>\n",
       "      <td>4 - 7 yrs</td>\n",
       "      <td>single male</td>\n",
       "      <td>none</td>\n",
       "      <td>other</td>\n",
       "      <td>bank</td>\n",
       "      <td>own</td>\n",
       "      <td>yes</td>\n",
       "      <td>yes</td>\n",
       "      <td>skilled employee</td>\n",
       "    </tr>\n",
       "    <tr>\n",
       "      <th>159</th>\n",
       "      <td>unknown</td>\n",
       "      <td>critical</td>\n",
       "      <td>radio/tv</td>\n",
       "      <td>unknown</td>\n",
       "      <td>1 - 4 yrs</td>\n",
       "      <td>single male</td>\n",
       "      <td>none</td>\n",
       "      <td>real estate</td>\n",
       "      <td>none</td>\n",
       "      <td>own</td>\n",
       "      <td>none</td>\n",
       "      <td>yes</td>\n",
       "      <td>unskilled resident</td>\n",
       "    </tr>\n",
       "  </tbody>\n",
       "</table>\n",
       "</div>"
      ],
      "text/plain": [
       "    checking_balance          credit_history     purpose savings_balance  \\\n",
       "155           < 0 DM                  repaid   furniture        < 100 DM   \n",
       "156           < 0 DM                critical     repairs    101 - 500 DM   \n",
       "157           < 0 DM  fully repaid this bank  retraining        < 100 DM   \n",
       "158       1 - 200 DM                  repaid   car (new)    101 - 500 DM   \n",
       "159          unknown                critical    radio/tv         unknown   \n",
       "\n",
       "    employment_length personal_status other_debtors     property  \\\n",
       "155         1 - 4 yrs          female          none        other   \n",
       "156           > 7 yrs     single male     guarantor  real estate   \n",
       "157           > 7 yrs    married male          none        other   \n",
       "158         4 - 7 yrs     single male          none        other   \n",
       "159         1 - 4 yrs     single male          none  real estate   \n",
       "\n",
       "    installment_plan housing telephone foreign_worker                 job  \n",
       "155             none    rent      none            yes    skilled employee  \n",
       "156             none     own      none             no    skilled employee  \n",
       "157             bank     own      none            yes  unskilled resident  \n",
       "158             bank     own       yes            yes    skilled employee  \n",
       "159             none     own      none            yes  unskilled resident  "
      ]
     },
     "execution_count": 9,
     "metadata": {},
     "output_type": "execute_result"
    }
   ],
   "source": [
    "#Utilizando método iloc e atribuindo o resultado em um novo DF (a entrada 705 será excçuída)\n",
    "data_object2 = data_object.iloc[155:705]\n",
    "#Examinando os 5 primeiros resuldados\n",
    "data_object2.head()"
   ]
  },
  {
   "cell_type": "code",
   "execution_count": 10,
   "metadata": {
    "cell_id": "2c7557d6c3f1484da119f510339e36f4",
    "deepnote_cell_type": "code",
    "deepnote_to_be_reexecuted": false,
    "execution_millis": 296,
    "execution_start": 1695829675413,
    "source_hash": null
   },
   "outputs": [
    {
     "data": {
      "text/html": [
       "<div>\n",
       "<style scoped>\n",
       "    .dataframe tbody tr th:only-of-type {\n",
       "        vertical-align: middle;\n",
       "    }\n",
       "\n",
       "    .dataframe tbody tr th {\n",
       "        vertical-align: top;\n",
       "    }\n",
       "\n",
       "    .dataframe thead th {\n",
       "        text-align: right;\n",
       "    }\n",
       "</style>\n",
       "<table border=\"1\" class=\"dataframe\">\n",
       "  <thead>\n",
       "    <tr style=\"text-align: right;\">\n",
       "      <th></th>\n",
       "      <th>checking_balance</th>\n",
       "      <th>credit_history</th>\n",
       "      <th>purpose</th>\n",
       "      <th>savings_balance</th>\n",
       "      <th>employment_length</th>\n",
       "      <th>personal_status</th>\n",
       "      <th>other_debtors</th>\n",
       "      <th>property</th>\n",
       "      <th>installment_plan</th>\n",
       "      <th>housing</th>\n",
       "      <th>telephone</th>\n",
       "      <th>foreign_worker</th>\n",
       "      <th>job</th>\n",
       "    </tr>\n",
       "  </thead>\n",
       "  <tbody>\n",
       "    <tr>\n",
       "      <th>700</th>\n",
       "      <td>unknown</td>\n",
       "      <td>repaid</td>\n",
       "      <td>furniture</td>\n",
       "      <td>501 - 1000 DM</td>\n",
       "      <td>1 - 4 yrs</td>\n",
       "      <td>female</td>\n",
       "      <td>none</td>\n",
       "      <td>other</td>\n",
       "      <td>none</td>\n",
       "      <td>rent</td>\n",
       "      <td>none</td>\n",
       "      <td>yes</td>\n",
       "      <td>unskilled resident</td>\n",
       "    </tr>\n",
       "    <tr>\n",
       "      <th>701</th>\n",
       "      <td>&lt; 0 DM</td>\n",
       "      <td>critical</td>\n",
       "      <td>car (used)</td>\n",
       "      <td>&lt; 100 DM</td>\n",
       "      <td>&gt; 7 yrs</td>\n",
       "      <td>single male</td>\n",
       "      <td>none</td>\n",
       "      <td>unknown/none</td>\n",
       "      <td>none</td>\n",
       "      <td>for free</td>\n",
       "      <td>yes</td>\n",
       "      <td>yes</td>\n",
       "      <td>skilled employee</td>\n",
       "    </tr>\n",
       "    <tr>\n",
       "      <th>702</th>\n",
       "      <td>&gt; 200 DM</td>\n",
       "      <td>repaid</td>\n",
       "      <td>radio/tv</td>\n",
       "      <td>101 - 500 DM</td>\n",
       "      <td>&gt; 7 yrs</td>\n",
       "      <td>female</td>\n",
       "      <td>none</td>\n",
       "      <td>unknown/none</td>\n",
       "      <td>none</td>\n",
       "      <td>for free</td>\n",
       "      <td>yes</td>\n",
       "      <td>yes</td>\n",
       "      <td>skilled employee</td>\n",
       "    </tr>\n",
       "    <tr>\n",
       "      <th>703</th>\n",
       "      <td>1 - 200 DM</td>\n",
       "      <td>delayed</td>\n",
       "      <td>business</td>\n",
       "      <td>101 - 500 DM</td>\n",
       "      <td>&gt; 7 yrs</td>\n",
       "      <td>single male</td>\n",
       "      <td>none</td>\n",
       "      <td>building society savings</td>\n",
       "      <td>stores</td>\n",
       "      <td>own</td>\n",
       "      <td>none</td>\n",
       "      <td>yes</td>\n",
       "      <td>skilled employee</td>\n",
       "    </tr>\n",
       "    <tr>\n",
       "      <th>704</th>\n",
       "      <td>1 - 200 DM</td>\n",
       "      <td>repaid</td>\n",
       "      <td>business</td>\n",
       "      <td>&lt; 100 DM</td>\n",
       "      <td>0 - 1 yrs</td>\n",
       "      <td>female</td>\n",
       "      <td>none</td>\n",
       "      <td>building society savings</td>\n",
       "      <td>none</td>\n",
       "      <td>own</td>\n",
       "      <td>yes</td>\n",
       "      <td>yes</td>\n",
       "      <td>skilled employee</td>\n",
       "    </tr>\n",
       "  </tbody>\n",
       "</table>\n",
       "</div>"
      ],
      "text/plain": [
       "    checking_balance credit_history     purpose savings_balance  \\\n",
       "700          unknown         repaid   furniture   501 - 1000 DM   \n",
       "701           < 0 DM       critical  car (used)        < 100 DM   \n",
       "702         > 200 DM         repaid    radio/tv    101 - 500 DM   \n",
       "703       1 - 200 DM        delayed    business    101 - 500 DM   \n",
       "704       1 - 200 DM         repaid    business        < 100 DM   \n",
       "\n",
       "    employment_length personal_status other_debtors                  property  \\\n",
       "700         1 - 4 yrs          female          none                     other   \n",
       "701           > 7 yrs     single male          none              unknown/none   \n",
       "702           > 7 yrs          female          none              unknown/none   \n",
       "703           > 7 yrs     single male          none  building society savings   \n",
       "704         0 - 1 yrs          female          none  building society savings   \n",
       "\n",
       "    installment_plan   housing telephone foreign_worker                 job  \n",
       "700             none      rent      none            yes  unskilled resident  \n",
       "701             none  for free       yes            yes    skilled employee  \n",
       "702             none  for free       yes            yes    skilled employee  \n",
       "703           stores       own      none            yes    skilled employee  \n",
       "704             none       own       yes            yes    skilled employee  "
      ]
     },
     "execution_count": 10,
     "metadata": {},
     "output_type": "execute_result"
    }
   ],
   "source": [
    "#Examinando os últimos 5 resultados\n",
    "data_object2.tail()"
   ]
  },
  {
   "cell_type": "markdown",
   "metadata": {
    "cell_id": "d4cf919985d2445290054223f57657af",
    "deepnote_cell_type": "text-cell-p",
    "formattedRanges": [
     {
      "fromCodePoint": 0,
      "marks": {
       "bold": true
      },
      "toCodePoint": 220,
      "type": "marks"
     }
    ]
   },
   "source": [
    "Vamos criar e apresentar um novo DataFrame, escolhendo um nome apropriado, contendo apenas as observações que possuem histórico de crédito crítico e são de trabalhadores estrangeiros, a partir do DataFrame criado no item 5."
   ]
  },
  {
   "cell_type": "code",
   "execution_count": 11,
   "metadata": {
    "cell_id": "2291caa81c8040979133ff415409baff",
    "deepnote_cell_type": "code",
    "deepnote_to_be_reexecuted": false,
    "execution_millis": 305,
    "execution_start": 1695829675462,
    "source_hash": null
   },
   "outputs": [
    {
     "data": {
      "text/html": [
       "<div>\n",
       "<style scoped>\n",
       "    .dataframe tbody tr th:only-of-type {\n",
       "        vertical-align: middle;\n",
       "    }\n",
       "\n",
       "    .dataframe tbody tr th {\n",
       "        vertical-align: top;\n",
       "    }\n",
       "\n",
       "    .dataframe thead th {\n",
       "        text-align: right;\n",
       "    }\n",
       "</style>\n",
       "<table border=\"1\" class=\"dataframe\">\n",
       "  <thead>\n",
       "    <tr style=\"text-align: right;\">\n",
       "      <th></th>\n",
       "      <th>checking_balance</th>\n",
       "      <th>credit_history</th>\n",
       "      <th>purpose</th>\n",
       "      <th>savings_balance</th>\n",
       "      <th>employment_length</th>\n",
       "      <th>personal_status</th>\n",
       "      <th>other_debtors</th>\n",
       "      <th>property</th>\n",
       "      <th>installment_plan</th>\n",
       "      <th>housing</th>\n",
       "      <th>telephone</th>\n",
       "      <th>foreign_worker</th>\n",
       "      <th>job</th>\n",
       "    </tr>\n",
       "  </thead>\n",
       "  <tbody>\n",
       "    <tr>\n",
       "      <th>0</th>\n",
       "      <td>&lt; 0 DM</td>\n",
       "      <td>critical</td>\n",
       "      <td>radio/tv</td>\n",
       "      <td>unknown</td>\n",
       "      <td>&gt; 7 yrs</td>\n",
       "      <td>single male</td>\n",
       "      <td>none</td>\n",
       "      <td>real estate</td>\n",
       "      <td>none</td>\n",
       "      <td>own</td>\n",
       "      <td>yes</td>\n",
       "      <td>yes</td>\n",
       "      <td>skilled employee</td>\n",
       "    </tr>\n",
       "    <tr>\n",
       "      <th>2</th>\n",
       "      <td>unknown</td>\n",
       "      <td>critical</td>\n",
       "      <td>education</td>\n",
       "      <td>&lt; 100 DM</td>\n",
       "      <td>4 - 7 yrs</td>\n",
       "      <td>single male</td>\n",
       "      <td>none</td>\n",
       "      <td>real estate</td>\n",
       "      <td>none</td>\n",
       "      <td>own</td>\n",
       "      <td>none</td>\n",
       "      <td>yes</td>\n",
       "      <td>unskilled resident</td>\n",
       "    </tr>\n",
       "    <tr>\n",
       "      <th>9</th>\n",
       "      <td>1 - 200 DM</td>\n",
       "      <td>critical</td>\n",
       "      <td>car (new)</td>\n",
       "      <td>&lt; 100 DM</td>\n",
       "      <td>unemployed</td>\n",
       "      <td>married male</td>\n",
       "      <td>none</td>\n",
       "      <td>other</td>\n",
       "      <td>none</td>\n",
       "      <td>own</td>\n",
       "      <td>none</td>\n",
       "      <td>yes</td>\n",
       "      <td>mangement self-employed</td>\n",
       "    </tr>\n",
       "    <tr>\n",
       "      <th>13</th>\n",
       "      <td>&lt; 0 DM</td>\n",
       "      <td>critical</td>\n",
       "      <td>car (new)</td>\n",
       "      <td>&lt; 100 DM</td>\n",
       "      <td>&gt; 7 yrs</td>\n",
       "      <td>single male</td>\n",
       "      <td>none</td>\n",
       "      <td>other</td>\n",
       "      <td>none</td>\n",
       "      <td>own</td>\n",
       "      <td>none</td>\n",
       "      <td>yes</td>\n",
       "      <td>unskilled resident</td>\n",
       "    </tr>\n",
       "    <tr>\n",
       "      <th>16</th>\n",
       "      <td>unknown</td>\n",
       "      <td>critical</td>\n",
       "      <td>radio/tv</td>\n",
       "      <td>unknown</td>\n",
       "      <td>&gt; 7 yrs</td>\n",
       "      <td>single male</td>\n",
       "      <td>none</td>\n",
       "      <td>building society savings</td>\n",
       "      <td>none</td>\n",
       "      <td>own</td>\n",
       "      <td>none</td>\n",
       "      <td>yes</td>\n",
       "      <td>skilled employee</td>\n",
       "    </tr>\n",
       "  </tbody>\n",
       "</table>\n",
       "</div>"
      ],
      "text/plain": [
       "   checking_balance credit_history    purpose savings_balance  \\\n",
       "0            < 0 DM       critical   radio/tv         unknown   \n",
       "2           unknown       critical  education        < 100 DM   \n",
       "9        1 - 200 DM       critical  car (new)        < 100 DM   \n",
       "13           < 0 DM       critical  car (new)        < 100 DM   \n",
       "16          unknown       critical   radio/tv         unknown   \n",
       "\n",
       "   employment_length personal_status other_debtors                  property  \\\n",
       "0            > 7 yrs     single male          none               real estate   \n",
       "2          4 - 7 yrs     single male          none               real estate   \n",
       "9         unemployed    married male          none                     other   \n",
       "13           > 7 yrs     single male          none                     other   \n",
       "16           > 7 yrs     single male          none  building society savings   \n",
       "\n",
       "   installment_plan housing telephone foreign_worker                      job  \n",
       "0              none     own       yes            yes         skilled employee  \n",
       "2              none     own      none            yes       unskilled resident  \n",
       "9              none     own      none            yes  mangement self-employed  \n",
       "13             none     own      none            yes       unskilled resident  \n",
       "16             none     own      none            yes         skilled employee  "
      ]
     },
     "execution_count": 11,
     "metadata": {},
     "output_type": "execute_result"
    }
   ],
   "source": [
    "#Filtrando credit_history == critital & foreingn_worker == yes do DF data_object\n",
    "critical_clients = data_object[(data_object[\"credit_history\"] == \"critical\") &\n",
    "                    (data_object[\"foreign_worker\"] == \"yes\")]\n",
    "critical_clients.head()"
   ]
  },
  {
   "cell_type": "markdown",
   "metadata": {
    "cell_id": "3d20d57cd296483486fe7de4af58b25b",
    "deepnote_cell_type": "text-cell-p",
    "formattedRanges": [
     {
      "fromCodePoint": 0,
      "marks": {
       "bold": true
      },
      "toCodePoint": 190,
      "type": "marks"
     }
    ]
   },
   "source": [
    "Vamos criar e apresentar um novo DataFrame, escolhendo um nome apropriado, porém agora removendo todas as observações que não contenham um telefone cadastrado, a partir do DataFrame criado no item 5."
   ]
  },
  {
   "cell_type": "code",
   "execution_count": 12,
   "metadata": {
    "cell_id": "b1ed8f5dbd1947dab14f23cf2733dac8",
    "deepnote_cell_type": "code",
    "deepnote_to_be_reexecuted": false,
    "execution_millis": 48,
    "execution_start": 1695829675487,
    "source_hash": null
   },
   "outputs": [
    {
     "data": {
      "text/plain": [
       "none    596\n",
       "yes     404\n",
       "Name: telephone, dtype: int64"
      ]
     },
     "execution_count": 12,
     "metadata": {},
     "output_type": "execute_result"
    }
   ],
   "source": [
    "#Verificando a o objeto nulo, no caso == 'none'\n",
    "data_object['telephone'].value_counts()\n",
    "\n",
    "#Encontramos 404 entradas contendo telefone"
   ]
  },
  {
   "cell_type": "code",
   "execution_count": 13,
   "metadata": {
    "cell_id": "8d97a270c2524003aa1cb6425081bf11",
    "deepnote_cell_type": "code",
    "deepnote_to_be_reexecuted": false,
    "execution_millis": 43,
    "execution_start": 1695829675488,
    "source_hash": null
   },
   "outputs": [
    {
     "data": {
      "text/plain": [
       "404"
      ]
     },
     "execution_count": 13,
     "metadata": {},
     "output_type": "execute_result"
    }
   ],
   "source": [
    "#Removendo valores 'none' da coluna 'telephone em data_object e atribuindo a um novo DF\n",
    "data_telephone = data_object[data_object[\"telephone\"] == 'yes']\n",
    "len(data_telephone)\n",
    "\n",
    "#O resultado são as 404 entradas contendo telefone"
   ]
  },
  {
   "cell_type": "markdown",
   "metadata": {
    "cell_id": "d955cd48f9eb4111a07cead22a678953",
    "deepnote_cell_type": "text-cell-p",
    "formattedRanges": [
     {
      "fromCodePoint": 0,
      "marks": {
       "bold": true
      },
      "toCodePoint": 143,
      "type": "marks"
     }
    ]
   },
   "source": [
    "Vamos criar e apresentar um novo DataFrame, escolhendo um nome apropriado, a partir do DataFrame original, traduzindo os nomes de todas as variáveis."
   ]
  },
  {
   "cell_type": "code",
   "execution_count": 14,
   "metadata": {
    "cell_id": "9601b7e5a37c40c586e71a9fe489963c",
    "deepnote_cell_type": "code",
    "deepnote_to_be_reexecuted": false,
    "execution_millis": 49,
    "execution_start": 1695829675489,
    "source_hash": null
   },
   "outputs": [
    {
     "data": {
      "text/plain": [
       "Index(['saldo_corrente', 'duracao_emprestimo_meses', 'historico_credito',\n",
       "       'finalidade', 'quantidade', 'saldo_poupanca', 'duracao_emprego',\n",
       "       'taxa_prestacao', 'status_pessoal', 'outros_devedores',\n",
       "       'historico_residencia', 'propriedade', 'idade', 'plano_prestacao',\n",
       "       'moradia', 'creditos_existentes', 'inadimplente', 'dependentes',\n",
       "       'telefone', 'trabalhador_externo', 'emprego'],\n",
       "      dtype='object')"
      ]
     },
     "execution_count": 14,
     "metadata": {},
     "output_type": "execute_result"
    }
   ],
   "source": [
    "#Renomeando as colunas a partir do DF original \"data\"\n",
    "#Criando um dicionário\n",
    "data_rename = {\n",
    "     'checking_balance': 'saldo_corrente',\n",
    "    'months_loan_duration': 'duracao_emprestimo_meses',\n",
    "    'credit_history': 'historico_credito',\n",
    "    'purpose': 'finalidade',\n",
    "    'amount': 'quantidade',\n",
    "    'savings_balance': 'saldo_poupanca',\n",
    "    'employment_length': 'duracao_emprego',\n",
    "    'installment_rate': 'taxa_prestacao',\n",
    "    'personal_status': 'status_pessoal',\n",
    "    'other_debtors': 'outros_devedores',\n",
    "    'residence_history': 'historico_residencia',\n",
    "    'property': 'propriedade',\n",
    "    'age': 'idade',\n",
    "    'installment_plan': 'plano_prestacao',\n",
    "    'housing': 'moradia',\n",
    "    'existing_credits': 'creditos_existentes',\n",
    "    'default': 'inadimplente',\n",
    "    'dependents': 'dependentes',\n",
    "    'telephone': 'telefone',\n",
    "    'foreign_worker': 'trabalhador_externo',\n",
    "    'job': 'emprego'\n",
    "}\n",
    "\n",
    "data_renamed = data.rename(columns=data_rename)\n",
    "data_renamed.columns"
   ]
  },
  {
   "cell_type": "markdown",
   "metadata": {
    "cell_id": "97121e3835be4fe5ba6b7cd7f9661adf",
    "deepnote_cell_type": "text-cell-p",
    "formattedRanges": [
     {
      "fromCodePoint": 0,
      "marks": {
       "bold": true
      },
      "toCodePoint": 249,
      "type": "marks"
     }
    ]
   },
   "source": [
    "Vamos criar e apresentar um novo DataFrame, escolhendo um nome apropriado, a partir do DataFrame original, convertendo a variável \"checking_balance\" para valores numéricos, seguindo o padrão especificado."
   ]
  },
  {
   "cell_type": "code",
   "execution_count": 15,
   "metadata": {
    "cell_id": "3bf2c93352bb4f6cbb56b11613e1c4b9",
    "deepnote_cell_type": "code",
    "deepnote_to_be_reexecuted": false,
    "execution_millis": 22,
    "execution_start": 1695829675493,
    "source_hash": null
   },
   "outputs": [
    {
     "data": {
      "text/plain": [
       "0    394\n",
       "1    274\n",
       "2    269\n",
       "3     63\n",
       "Name: checking_balance, dtype: int64"
      ]
     },
     "execution_count": 15,
     "metadata": {},
     "output_type": "execute_result"
    }
   ],
   "source": [
    "# Criando um dicionário com variáveis numéricas\n",
    "checking_balance_map_original = {\n",
    "    'unknown': 0,\n",
    "    '< 0 DM': 1,\n",
    "    '1 - 200 DM': 2,\n",
    "    '> 200 DM': 3\n",
    "}\n",
    "#Copiando o DF original para um novo (sem modificação do original)\n",
    "data_numeric = data.copy()\n",
    "#utilizando a função .map para substituir os valores da coluna checking_balance do DF original\n",
    "#Os valores resultantes são armazenados na coluna checking_balance (copiada do DF data) para o novo DF\n",
    "data_numeric['checking_balance'] = data['checking_balance'].map(checking_balance_map_original)\n",
    "#Imprimindo o novo DF com value_counts()\n",
    "data_numeric['checking_balance'].value_counts()\n"
   ]
  },
  {
   "cell_type": "markdown",
   "metadata": {
    "cell_id": "018ff60543534b8aa31a87d627a80e1d",
    "deepnote_cell_type": "text-cell-p",
    "formattedRanges": [
     {
      "fromCodePoint": 0,
      "marks": {
       "bold": true
      },
      "toCodePoint": 158,
      "type": "marks"
     }
    ]
   },
   "source": [
    "Agora, vamos criar e apresentar um novo DataFrame, escolhendo um nome apropriado, a partir do DataFrame criado no item 9, ordenado de forma crescente pela variável idade."
   ]
  },
  {
   "cell_type": "code",
   "execution_count": 16,
   "metadata": {
    "cell_id": "61a7414d2ec5421382eef27a82faffb7",
    "deepnote_cell_type": "code",
    "deepnote_to_be_reexecuted": false,
    "execution_millis": 23,
    "execution_start": 1695829675504,
    "source_hash": null
   },
   "outputs": [
    {
     "data": {
      "text/plain": [
       "391    19\n",
       "633    19\n",
       "513    20\n",
       "155    20\n",
       "410    20\n",
       "       ..\n",
       "606    74\n",
       "186    74\n",
       "430    74\n",
       "330    75\n",
       "536    75\n",
       "Name: idade, Length: 1000, dtype: int64"
      ]
     },
     "execution_count": 16,
     "metadata": {},
     "output_type": "execute_result"
    }
   ],
   "source": [
    "#Utilizando o DF data_renamed (item 9)\n",
    "#utilizando a função sort_values()\n",
    "\n",
    "idade_crescente = data_renamed.sort_values(by=\"idade\")\n",
    "idade_crescente[\"idade\"]"
   ]
  },
  {
   "cell_type": "markdown",
   "metadata": {
    "cell_id": "ffc16ace370944ab8af814e205846eb4",
    "deepnote_cell_type": "text-cell-p",
    "formattedRanges": [
     {
      "fromCodePoint": 0,
      "marks": {
       "bold": true
      },
      "toCodePoint": 681,
      "type": "marks"
     }
    ]
   },
   "source": [
    "Vamos criar e apresentar um novo DataFrame, escolhendo um nome apropriado, a partir do DataFrame original, que contenha as informações solicitadas, utilizando o método pivot_table() do Pandas. Isso nos permitirá calcular a média de idade por status pessoal, tipo de emprego e status de devedor, para cada duração no emprego na base de dados."
   ]
  },
  {
   "cell_type": "code",
   "execution_count": 17,
   "metadata": {
    "cell_id": "089c21968fd249529d6c3a0afb056d91",
    "deepnote_cell_type": "code",
    "deepnote_to_be_reexecuted": false,
    "execution_millis": 339,
    "execution_start": 1695829675547,
    "source_hash": null
   },
   "outputs": [
    {
     "data": {
      "text/html": [
       "<div>\n",
       "<style scoped>\n",
       "    .dataframe tbody tr th:only-of-type {\n",
       "        vertical-align: middle;\n",
       "    }\n",
       "\n",
       "    .dataframe tbody tr th {\n",
       "        vertical-align: top;\n",
       "    }\n",
       "\n",
       "    .dataframe thead th {\n",
       "        text-align: right;\n",
       "    }\n",
       "</style>\n",
       "<table border=\"1\" class=\"dataframe\">\n",
       "  <thead>\n",
       "    <tr style=\"text-align: right;\">\n",
       "      <th></th>\n",
       "      <th></th>\n",
       "      <th>employment_length</th>\n",
       "      <th>0 - 1 yrs</th>\n",
       "      <th>1 - 4 yrs</th>\n",
       "      <th>4 - 7 yrs</th>\n",
       "      <th>&gt; 7 yrs</th>\n",
       "      <th>unemployed</th>\n",
       "    </tr>\n",
       "    <tr>\n",
       "      <th>personal_status</th>\n",
       "      <th>job</th>\n",
       "      <th>default</th>\n",
       "      <th></th>\n",
       "      <th></th>\n",
       "      <th></th>\n",
       "      <th></th>\n",
       "      <th></th>\n",
       "    </tr>\n",
       "  </thead>\n",
       "  <tbody>\n",
       "    <tr>\n",
       "      <th rowspan=\"6\" valign=\"top\">divorced male</th>\n",
       "      <th rowspan=\"2\" valign=\"top\">mangement self-employed</th>\n",
       "      <th>1</th>\n",
       "      <td>35.000000</td>\n",
       "      <td>40.000000</td>\n",
       "      <td>36.000000</td>\n",
       "      <td>36.000000</td>\n",
       "      <td>51.500000</td>\n",
       "    </tr>\n",
       "    <tr>\n",
       "      <th>2</th>\n",
       "      <td>NaN</td>\n",
       "      <td>37.000000</td>\n",
       "      <td>NaN</td>\n",
       "      <td>42.500000</td>\n",
       "      <td>NaN</td>\n",
       "    </tr>\n",
       "    <tr>\n",
       "      <th rowspan=\"2\" valign=\"top\">skilled employee</th>\n",
       "      <th>1</th>\n",
       "      <td>38.000000</td>\n",
       "      <td>38.400000</td>\n",
       "      <td>NaN</td>\n",
       "      <td>37.400000</td>\n",
       "      <td>NaN</td>\n",
       "    </tr>\n",
       "    <tr>\n",
       "      <th>2</th>\n",
       "      <td>35.000000</td>\n",
       "      <td>32.666667</td>\n",
       "      <td>39.500000</td>\n",
       "      <td>38.500000</td>\n",
       "      <td>33.000000</td>\n",
       "    </tr>\n",
       "    <tr>\n",
       "      <th rowspan=\"2\" valign=\"top\">unskilled resident</th>\n",
       "      <th>1</th>\n",
       "      <td>NaN</td>\n",
       "      <td>34.666667</td>\n",
       "      <td>61.000000</td>\n",
       "      <td>49.000000</td>\n",
       "      <td>NaN</td>\n",
       "    </tr>\n",
       "    <tr>\n",
       "      <th>2</th>\n",
       "      <td>32.500000</td>\n",
       "      <td>NaN</td>\n",
       "      <td>NaN</td>\n",
       "      <td>61.000000</td>\n",
       "      <td>NaN</td>\n",
       "    </tr>\n",
       "    <tr>\n",
       "      <th rowspan=\"8\" valign=\"top\">female</th>\n",
       "      <th rowspan=\"2\" valign=\"top\">mangement self-employed</th>\n",
       "      <th>1</th>\n",
       "      <td>31.500000</td>\n",
       "      <td>28.500000</td>\n",
       "      <td>41.333333</td>\n",
       "      <td>46.571429</td>\n",
       "      <td>52.000000</td>\n",
       "    </tr>\n",
       "    <tr>\n",
       "      <th>2</th>\n",
       "      <td>24.000000</td>\n",
       "      <td>27.600000</td>\n",
       "      <td>30.000000</td>\n",
       "      <td>50.800000</td>\n",
       "      <td>37.750000</td>\n",
       "    </tr>\n",
       "    <tr>\n",
       "      <th rowspan=\"2\" valign=\"top\">skilled employee</th>\n",
       "      <th>1</th>\n",
       "      <td>27.971429</td>\n",
       "      <td>31.319149</td>\n",
       "      <td>31.000000</td>\n",
       "      <td>38.421053</td>\n",
       "      <td>51.333333</td>\n",
       "    </tr>\n",
       "    <tr>\n",
       "      <th>2</th>\n",
       "      <td>27.666667</td>\n",
       "      <td>27.428571</td>\n",
       "      <td>27.400000</td>\n",
       "      <td>36.666667</td>\n",
       "      <td>25.666667</td>\n",
       "    </tr>\n",
       "    <tr>\n",
       "      <th rowspan=\"2\" valign=\"top\">unemployed non-resident</th>\n",
       "      <th>1</th>\n",
       "      <td>29.000000</td>\n",
       "      <td>NaN</td>\n",
       "      <td>NaN</td>\n",
       "      <td>NaN</td>\n",
       "      <td>37.833333</td>\n",
       "    </tr>\n",
       "    <tr>\n",
       "      <th>2</th>\n",
       "      <td>26.000000</td>\n",
       "      <td>NaN</td>\n",
       "      <td>NaN</td>\n",
       "      <td>NaN</td>\n",
       "      <td>37.000000</td>\n",
       "    </tr>\n",
       "    <tr>\n",
       "      <th rowspan=\"2\" valign=\"top\">unskilled resident</th>\n",
       "      <th>1</th>\n",
       "      <td>30.428571</td>\n",
       "      <td>39.882353</td>\n",
       "      <td>35.800000</td>\n",
       "      <td>44.571429</td>\n",
       "      <td>57.000000</td>\n",
       "    </tr>\n",
       "    <tr>\n",
       "      <th>2</th>\n",
       "      <td>26.500000</td>\n",
       "      <td>25.875000</td>\n",
       "      <td>34.000000</td>\n",
       "      <td>46.333333</td>\n",
       "      <td>NaN</td>\n",
       "    </tr>\n",
       "    <tr>\n",
       "      <th rowspan=\"7\" valign=\"top\">married male</th>\n",
       "      <th rowspan=\"2\" valign=\"top\">mangement self-employed</th>\n",
       "      <th>1</th>\n",
       "      <td>30.000000</td>\n",
       "      <td>30.000000</td>\n",
       "      <td>32.000000</td>\n",
       "      <td>NaN</td>\n",
       "      <td>NaN</td>\n",
       "    </tr>\n",
       "    <tr>\n",
       "      <th>2</th>\n",
       "      <td>28.000000</td>\n",
       "      <td>NaN</td>\n",
       "      <td>NaN</td>\n",
       "      <td>NaN</td>\n",
       "      <td>28.000000</td>\n",
       "    </tr>\n",
       "    <tr>\n",
       "      <th rowspan=\"2\" valign=\"top\">skilled employee</th>\n",
       "      <th>1</th>\n",
       "      <td>30.900000</td>\n",
       "      <td>27.950000</td>\n",
       "      <td>28.000000</td>\n",
       "      <td>37.285714</td>\n",
       "      <td>34.000000</td>\n",
       "    </tr>\n",
       "    <tr>\n",
       "      <th>2</th>\n",
       "      <td>28.750000</td>\n",
       "      <td>29.800000</td>\n",
       "      <td>25.750000</td>\n",
       "      <td>NaN</td>\n",
       "      <td>NaN</td>\n",
       "    </tr>\n",
       "    <tr>\n",
       "      <th>unemployed non-resident</th>\n",
       "      <th>1</th>\n",
       "      <td>27.000000</td>\n",
       "      <td>NaN</td>\n",
       "      <td>NaN</td>\n",
       "      <td>NaN</td>\n",
       "      <td>40.000000</td>\n",
       "    </tr>\n",
       "    <tr>\n",
       "      <th rowspan=\"2\" valign=\"top\">unskilled resident</th>\n",
       "      <th>1</th>\n",
       "      <td>25.250000</td>\n",
       "      <td>30.333333</td>\n",
       "      <td>24.666667</td>\n",
       "      <td>39.400000</td>\n",
       "      <td>NaN</td>\n",
       "    </tr>\n",
       "    <tr>\n",
       "      <th>2</th>\n",
       "      <td>38.000000</td>\n",
       "      <td>47.000000</td>\n",
       "      <td>25.000000</td>\n",
       "      <td>NaN</td>\n",
       "      <td>NaN</td>\n",
       "    </tr>\n",
       "    <tr>\n",
       "      <th rowspan=\"8\" valign=\"top\">single male</th>\n",
       "      <th rowspan=\"2\" valign=\"top\">mangement self-employed</th>\n",
       "      <th>1</th>\n",
       "      <td>40.500000</td>\n",
       "      <td>36.416667</td>\n",
       "      <td>36.142857</td>\n",
       "      <td>40.500000</td>\n",
       "      <td>40.062500</td>\n",
       "    </tr>\n",
       "    <tr>\n",
       "      <th>2</th>\n",
       "      <td>30.000000</td>\n",
       "      <td>37.600000</td>\n",
       "      <td>27.000000</td>\n",
       "      <td>48.083333</td>\n",
       "      <td>39.666667</td>\n",
       "    </tr>\n",
       "    <tr>\n",
       "      <th rowspan=\"2\" valign=\"top\">skilled employee</th>\n",
       "      <th>1</th>\n",
       "      <td>31.058824</td>\n",
       "      <td>33.487805</td>\n",
       "      <td>34.527273</td>\n",
       "      <td>42.968421</td>\n",
       "      <td>24.500000</td>\n",
       "    </tr>\n",
       "    <tr>\n",
       "      <th>2</th>\n",
       "      <td>34.222222</td>\n",
       "      <td>37.500000</td>\n",
       "      <td>29.850000</td>\n",
       "      <td>40.035714</td>\n",
       "      <td>46.500000</td>\n",
       "    </tr>\n",
       "    <tr>\n",
       "      <th rowspan=\"2\" valign=\"top\">unemployed non-resident</th>\n",
       "      <th>1</th>\n",
       "      <td>35.000000</td>\n",
       "      <td>74.000000</td>\n",
       "      <td>NaN</td>\n",
       "      <td>NaN</td>\n",
       "      <td>59.750000</td>\n",
       "    </tr>\n",
       "    <tr>\n",
       "      <th>2</th>\n",
       "      <td>NaN</td>\n",
       "      <td>NaN</td>\n",
       "      <td>NaN</td>\n",
       "      <td>NaN</td>\n",
       "      <td>24.000000</td>\n",
       "    </tr>\n",
       "    <tr>\n",
       "      <th rowspan=\"2\" valign=\"top\">unskilled resident</th>\n",
       "      <th>1</th>\n",
       "      <td>35.769231</td>\n",
       "      <td>32.969697</td>\n",
       "      <td>40.785714</td>\n",
       "      <td>47.263158</td>\n",
       "      <td>NaN</td>\n",
       "    </tr>\n",
       "    <tr>\n",
       "      <th>2</th>\n",
       "      <td>31.000000</td>\n",
       "      <td>35.166667</td>\n",
       "      <td>31.750000</td>\n",
       "      <td>49.200000</td>\n",
       "      <td>NaN</td>\n",
       "    </tr>\n",
       "  </tbody>\n",
       "</table>\n",
       "</div>"
      ],
      "text/plain": [
       "employment_length                                0 - 1 yrs  1 - 4 yrs  \\\n",
       "personal_status job                     default                         \n",
       "divorced male   mangement self-employed 1        35.000000  40.000000   \n",
       "                                        2              NaN  37.000000   \n",
       "                skilled employee        1        38.000000  38.400000   \n",
       "                                        2        35.000000  32.666667   \n",
       "                unskilled resident      1              NaN  34.666667   \n",
       "                                        2        32.500000        NaN   \n",
       "female          mangement self-employed 1        31.500000  28.500000   \n",
       "                                        2        24.000000  27.600000   \n",
       "                skilled employee        1        27.971429  31.319149   \n",
       "                                        2        27.666667  27.428571   \n",
       "                unemployed non-resident 1        29.000000        NaN   \n",
       "                                        2        26.000000        NaN   \n",
       "                unskilled resident      1        30.428571  39.882353   \n",
       "                                        2        26.500000  25.875000   \n",
       "married male    mangement self-employed 1        30.000000  30.000000   \n",
       "                                        2        28.000000        NaN   \n",
       "                skilled employee        1        30.900000  27.950000   \n",
       "                                        2        28.750000  29.800000   \n",
       "                unemployed non-resident 1        27.000000        NaN   \n",
       "                unskilled resident      1        25.250000  30.333333   \n",
       "                                        2        38.000000  47.000000   \n",
       "single male     mangement self-employed 1        40.500000  36.416667   \n",
       "                                        2        30.000000  37.600000   \n",
       "                skilled employee        1        31.058824  33.487805   \n",
       "                                        2        34.222222  37.500000   \n",
       "                unemployed non-resident 1        35.000000  74.000000   \n",
       "                                        2              NaN        NaN   \n",
       "                unskilled resident      1        35.769231  32.969697   \n",
       "                                        2        31.000000  35.166667   \n",
       "\n",
       "employment_length                                4 - 7 yrs    > 7 yrs  \\\n",
       "personal_status job                     default                         \n",
       "divorced male   mangement self-employed 1        36.000000  36.000000   \n",
       "                                        2              NaN  42.500000   \n",
       "                skilled employee        1              NaN  37.400000   \n",
       "                                        2        39.500000  38.500000   \n",
       "                unskilled resident      1        61.000000  49.000000   \n",
       "                                        2              NaN  61.000000   \n",
       "female          mangement self-employed 1        41.333333  46.571429   \n",
       "                                        2        30.000000  50.800000   \n",
       "                skilled employee        1        31.000000  38.421053   \n",
       "                                        2        27.400000  36.666667   \n",
       "                unemployed non-resident 1              NaN        NaN   \n",
       "                                        2              NaN        NaN   \n",
       "                unskilled resident      1        35.800000  44.571429   \n",
       "                                        2        34.000000  46.333333   \n",
       "married male    mangement self-employed 1        32.000000        NaN   \n",
       "                                        2              NaN        NaN   \n",
       "                skilled employee        1        28.000000  37.285714   \n",
       "                                        2        25.750000        NaN   \n",
       "                unemployed non-resident 1              NaN        NaN   \n",
       "                unskilled resident      1        24.666667  39.400000   \n",
       "                                        2        25.000000        NaN   \n",
       "single male     mangement self-employed 1        36.142857  40.500000   \n",
       "                                        2        27.000000  48.083333   \n",
       "                skilled employee        1        34.527273  42.968421   \n",
       "                                        2        29.850000  40.035714   \n",
       "                unemployed non-resident 1              NaN        NaN   \n",
       "                                        2              NaN        NaN   \n",
       "                unskilled resident      1        40.785714  47.263158   \n",
       "                                        2        31.750000  49.200000   \n",
       "\n",
       "employment_length                                unemployed  \n",
       "personal_status job                     default              \n",
       "divorced male   mangement self-employed 1         51.500000  \n",
       "                                        2               NaN  \n",
       "                skilled employee        1               NaN  \n",
       "                                        2         33.000000  \n",
       "                unskilled resident      1               NaN  \n",
       "                                        2               NaN  \n",
       "female          mangement self-employed 1         52.000000  \n",
       "                                        2         37.750000  \n",
       "                skilled employee        1         51.333333  \n",
       "                                        2         25.666667  \n",
       "                unemployed non-resident 1         37.833333  \n",
       "                                        2         37.000000  \n",
       "                unskilled resident      1         57.000000  \n",
       "                                        2               NaN  \n",
       "married male    mangement self-employed 1               NaN  \n",
       "                                        2         28.000000  \n",
       "                skilled employee        1         34.000000  \n",
       "                                        2               NaN  \n",
       "                unemployed non-resident 1         40.000000  \n",
       "                unskilled resident      1               NaN  \n",
       "                                        2               NaN  \n",
       "single male     mangement self-employed 1         40.062500  \n",
       "                                        2         39.666667  \n",
       "                skilled employee        1         24.500000  \n",
       "                                        2         46.500000  \n",
       "                unemployed non-resident 1         59.750000  \n",
       "                                        2         24.000000  \n",
       "                unskilled resident      1               NaN  \n",
       "                                        2               NaN  "
      ]
     },
     "execution_count": 17,
     "metadata": {},
     "output_type": "execute_result"
    }
   ],
   "source": [
    "pivot_table = data.pivot_table(values = 'age', #essa é a média que esperamos\n",
    "                            index = ['personal_status', 'job', 'default'], #os índices e seus valores únicos\n",
    "                            columns = 'employment_length', #as colunas com o tempo de emprego\n",
    "                            aggfunc = 'mean') #a função de média para values\n",
    "pivot_table"
   ]
  },
  {
   "cell_type": "markdown",
   "metadata": {
    "cell_id": "742b2a7236ee427a89229c411d2ecade",
    "deepnote_cell_type": "text-cell-p",
    "formattedRanges": [
     {
      "fromCodePoint": 0,
      "marks": {
       "bold": true
      },
      "toCodePoint": 256,
      "type": "marks"
     }
    ]
   },
   "source": [
    "Vamos apresentar quantas pessoas registradas como trabalhadores especializados (\"skilled employee\") pagaram corretamente suas dívidas (\"default\" = 1). Faremos isso a partir do DataFrame original."
   ]
  },
  {
   "cell_type": "code",
   "execution_count": 18,
   "metadata": {
    "cell_id": "68294deb6fb3422bb1ed4e3c00419513",
    "deepnote_cell_type": "code",
    "deepnote_to_be_reexecuted": false,
    "execution_millis": 151,
    "execution_start": 1695829675581,
    "source_hash": null
   },
   "outputs": [
    {
     "data": {
      "text/plain": [
       "444"
      ]
     },
     "execution_count": 18,
     "metadata": {},
     "output_type": "execute_result"
    }
   ],
   "source": [
    "#Filtrando as colunas skilled employee e default=1\n",
    "#Encontramos um total de 444 clientes que se enquadram na solicitação\n",
    "#OBS:(data[job]) = cria valores booleanos\n",
    "# OBS data(data[job]) = compara os valores booleanos (True) com o DF original\n",
    "#OBS as comparações devem estar entre () quando se usam operações como & ou | \n",
    "\n",
    "clientes_pagantes = data[(data[\"job\"] == \"skilled employee\") & (data[\"default\"] == 1)]\n",
    "clientes_pagantes_len = len(clientes_pagantes)\n",
    "clientes_pagantes_len\n",
    "\n"
   ]
  },
  {
   "cell_type": "markdown",
   "metadata": {
    "cell_id": "ff06a59df2c04d928a6f9fdb29065268",
    "deepnote_cell_type": "text-cell-p",
    "formattedRanges": [
     {
      "fromCodePoint": 0,
      "marks": {
       "bold": true
      },
      "toCodePoint": 359,
      "type": "marks"
     }
    ]
   },
   "source": [
    "Vamos utilizar o método .apply() do Pandas para criar uma nova coluna chamada \"risk_factor\" contendo as informações \"high risk\" e \"low risk\" para os clientes que tenham 3 ou mais créditos abertos na instituição e menos de 3 créditos abertos na instituição, respectivamente (utilizando a variável \"existing_credits\"). Em seguida, apresentaremos o DataFrame com a nova coluna criada."
   ]
  },
  {
   "cell_type": "code",
   "execution_count": 19,
   "metadata": {
    "cell_id": "74aa0bf1e42f42bc9441e93eb910afb0",
    "deepnote_cell_type": "code",
    "deepnote_to_be_reexecuted": false,
    "execution_millis": 43,
    "execution_start": 1695829675586,
    "source_hash": null
   },
   "outputs": [
    {
     "data": {
      "text/plain": [
       "low risk     966\n",
       "righ risk     34\n",
       "Name: risk_factor, dtype: int64"
      ]
     },
     "execution_count": 19,
     "metadata": {},
     "output_type": "execute_result"
    }
   ],
   "source": [
    "#Criamos uma função chamada i com o argumento 'linha'\n",
    "\n",
    "def i (linha):\n",
    "    if linha [\"existing_credits\"] >=3: #se = ou maior que 3\n",
    "        return \"righ risk\" #retorna\n",
    "    else: # ou se diferente de >=3\n",
    "        return \"low risk\"\n",
    "#1 Criando nova coluna no DF data\n",
    "#Aplicando o apply sobre a função i em axis 1 (equivalente às linhas do DF)\n",
    "data['risk_factor'] = data.apply(i, axis=1)\n",
    "\n",
    "#Contando as entradas na coluna risk_factor\n",
    "data[\"risk_factor\"].value_counts()\n",
    "\n",
    "#Abaixo o resultado da análise:"
   ]
  },
  {
   "cell_type": "code",
   "execution_count": 20,
   "metadata": {
    "cell_id": "71e89f6d56484e6784bfcc306d89f1a5",
    "deepnote_cell_type": "code",
    "deepnote_to_be_reexecuted": false,
    "execution_millis": 43,
    "execution_start": 1695829675610,
    "source_hash": null
   },
   "outputs": [
    {
     "data": {
      "text/plain": [
       "Index(['checking_balance', 'months_loan_duration', 'credit_history', 'purpose',\n",
       "       'amount', 'savings_balance', 'employment_length', 'installment_rate',\n",
       "       'personal_status', 'other_debtors', 'residence_history', 'property',\n",
       "       'age', 'installment_plan', 'housing', 'existing_credits', 'default',\n",
       "       'dependents', 'telephone', 'foreign_worker', 'job', 'risk_factor'],\n",
       "      dtype='object')"
      ]
     },
     "execution_count": 20,
     "metadata": {},
     "output_type": "execute_result"
    }
   ],
   "source": [
    "#Verificando a existência da nova coluna \"risk_factor\": ok!\n",
    "data.columns"
   ]
  },
  {
   "cell_type": "markdown",
   "metadata": {
    "cell_id": "09b80ed1a41d4c74a07526a54eb46d34",
    "deepnote_cell_type": "text-cell-p",
    "formattedRanges": [
     {
      "fromCodePoint": 0,
      "marks": {
       "bold": true
      },
      "toCodePoint": 144,
      "type": "marks"
     }
    ]
   },
   "source": [
    "\n",
    "Vamos utilizar o método .groupby() do Pandas para apresentar a mediana, valor mínimo e valor máximo das idades, agrupadas pela variável \"default\"."
   ]
  },
  {
   "cell_type": "code",
   "execution_count": 21,
   "metadata": {
    "cell_id": "4b4b47cd9b4447469b2f843b0b5b69da",
    "deepnote_cell_type": "code",
    "deepnote_to_be_reexecuted": false,
    "execution_millis": 242,
    "execution_start": 1695829930886,
    "source_hash": null
   },
   "outputs": [
    {
     "data": {
      "text/html": [
       "<div>\n",
       "<style scoped>\n",
       "    .dataframe tbody tr th:only-of-type {\n",
       "        vertical-align: middle;\n",
       "    }\n",
       "\n",
       "    .dataframe tbody tr th {\n",
       "        vertical-align: top;\n",
       "    }\n",
       "\n",
       "    .dataframe thead th {\n",
       "        text-align: right;\n",
       "    }\n",
       "</style>\n",
       "<table border=\"1\" class=\"dataframe\">\n",
       "  <thead>\n",
       "    <tr style=\"text-align: right;\">\n",
       "      <th></th>\n",
       "      <th>median</th>\n",
       "      <th>mean</th>\n",
       "      <th>max</th>\n",
       "    </tr>\n",
       "    <tr>\n",
       "      <th>default</th>\n",
       "      <th></th>\n",
       "      <th></th>\n",
       "      <th></th>\n",
       "    </tr>\n",
       "  </thead>\n",
       "  <tbody>\n",
       "    <tr>\n",
       "      <th>1</th>\n",
       "      <td>34.0</td>\n",
       "      <td>36.224286</td>\n",
       "      <td>75</td>\n",
       "    </tr>\n",
       "    <tr>\n",
       "      <th>2</th>\n",
       "      <td>31.0</td>\n",
       "      <td>33.963333</td>\n",
       "      <td>74</td>\n",
       "    </tr>\n",
       "  </tbody>\n",
       "</table>\n",
       "</div>"
      ],
      "text/plain": [
       "         median       mean  max\n",
       "default                        \n",
       "1          34.0  36.224286   75\n",
       "2          31.0  33.963333   74"
      ]
     },
     "execution_count": 21,
     "metadata": {},
     "output_type": "execute_result"
    }
   ],
   "source": [
    "#agrupamos a coluna 'default' que possui dois valores 1 e 2 utilizando a função groupby()\n",
    "#sobre a coluna 'age'aplicamos as operações solicitadas através da função agg\n",
    "#obs: utiliza-se colchetes dentro da função agg() em ['median', 'mean', 'max'] por se tratar de uma lista\n",
    "grouped = data.groupby(\"default\")['age'].agg(['median', 'mean', 'max'])\n",
    "grouped\n"
   ]
  },
  {
   "cell_type": "markdown",
   "metadata": {
    "cell_id": "f979b6b91c3c4f62a744f6051ab07f67",
    "deepnote_cell_type": "text-cell-p",
    "formattedRanges": [
     {
      "fromCodePoint": 0,
      "marks": {
       "bold": true
      },
      "toCodePoint": 278,
      "type": "marks"
     }
    ]
   },
   "source": [
    "Vamos utilizar novamente o método pivot_table() do Pandas para apresentar um relatório contendo a mediana de idade por status pessoal (\"personal_status\") e status de devedor (\"default\"). Apresentaremos a mediana para cada uma das condições de residência da base (\"housing\")."
   ]
  },
  {
   "cell_type": "code",
   "execution_count": 22,
   "metadata": {
    "cell_id": "cec4705c5495479a9e52ee8e7e958869",
    "deepnote_cell_type": "code",
    "deepnote_to_be_reexecuted": false,
    "execution_millis": 180,
    "execution_start": 1695831055306,
    "source_hash": null
   },
   "outputs": [
    {
     "data": {
      "text/html": [
       "<div>\n",
       "<style scoped>\n",
       "    .dataframe tbody tr th:only-of-type {\n",
       "        vertical-align: middle;\n",
       "    }\n",
       "\n",
       "    .dataframe tbody tr th {\n",
       "        vertical-align: top;\n",
       "    }\n",
       "\n",
       "    .dataframe thead th {\n",
       "        text-align: right;\n",
       "    }\n",
       "</style>\n",
       "<table border=\"1\" class=\"dataframe\">\n",
       "  <thead>\n",
       "    <tr style=\"text-align: right;\">\n",
       "      <th></th>\n",
       "      <th>housing</th>\n",
       "      <th>for free</th>\n",
       "      <th>own</th>\n",
       "      <th>rent</th>\n",
       "    </tr>\n",
       "    <tr>\n",
       "      <th>personal_status</th>\n",
       "      <th>default</th>\n",
       "      <th></th>\n",
       "      <th></th>\n",
       "      <th></th>\n",
       "    </tr>\n",
       "  </thead>\n",
       "  <tbody>\n",
       "    <tr>\n",
       "      <th rowspan=\"2\" valign=\"top\">divorced male</th>\n",
       "      <th>1</th>\n",
       "      <td>49.5</td>\n",
       "      <td>36.0</td>\n",
       "      <td>24.0</td>\n",
       "    </tr>\n",
       "    <tr>\n",
       "      <th>2</th>\n",
       "      <td>29.0</td>\n",
       "      <td>33.5</td>\n",
       "      <td>44.0</td>\n",
       "    </tr>\n",
       "    <tr>\n",
       "      <th rowspan=\"2\" valign=\"top\">female</th>\n",
       "      <th>1</th>\n",
       "      <td>49.5</td>\n",
       "      <td>31.0</td>\n",
       "      <td>25.0</td>\n",
       "    </tr>\n",
       "    <tr>\n",
       "      <th>2</th>\n",
       "      <td>48.0</td>\n",
       "      <td>28.0</td>\n",
       "      <td>24.0</td>\n",
       "    </tr>\n",
       "    <tr>\n",
       "      <th rowspan=\"2\" valign=\"top\">married male</th>\n",
       "      <th>1</th>\n",
       "      <td>47.0</td>\n",
       "      <td>28.0</td>\n",
       "      <td>25.0</td>\n",
       "    </tr>\n",
       "    <tr>\n",
       "      <th>2</th>\n",
       "      <td>NaN</td>\n",
       "      <td>28.0</td>\n",
       "      <td>24.0</td>\n",
       "    </tr>\n",
       "    <tr>\n",
       "      <th rowspan=\"2\" valign=\"top\">single male</th>\n",
       "      <th>1</th>\n",
       "      <td>38.0</td>\n",
       "      <td>35.0</td>\n",
       "      <td>35.0</td>\n",
       "    </tr>\n",
       "    <tr>\n",
       "      <th>2</th>\n",
       "      <td>42.5</td>\n",
       "      <td>34.0</td>\n",
       "      <td>32.0</td>\n",
       "    </tr>\n",
       "  </tbody>\n",
       "</table>\n",
       "</div>"
      ],
      "text/plain": [
       "housing                  for free   own  rent\n",
       "personal_status default                      \n",
       "divorced male   1            49.5  36.0  24.0\n",
       "                2            29.0  33.5  44.0\n",
       "female          1            49.5  31.0  25.0\n",
       "                2            48.0  28.0  24.0\n",
       "married male    1            47.0  28.0  25.0\n",
       "                2             NaN  28.0  24.0\n",
       "single male     1            38.0  35.0  35.0\n",
       "                2            42.5  34.0  32.0"
      ]
     },
     "execution_count": 22,
     "metadata": {},
     "output_type": "execute_result"
    }
   ],
   "source": [
    "pivot_report = data.pivot_table(values = \"age\",\n",
    "                                index=[\"personal_status\", \"default\"],\n",
    "                                columns = \"housing\",\n",
    "                                aggfunc= \"median\")\n",
    "pivot_report"
   ]
  }
 ],
 "metadata": {
  "deepnote_execution_queue": [],
  "deepnote_notebook_id": "6c2a2e1b5d8d432b94b49aad5d595e32",
  "deepnote_persisted_session": {
   "createdAt": "2023-09-27T16:32:03.516Z"
  },
  "kernelspec": {
   "display_name": "Python 3 (ipykernel)",
   "language": "python",
   "name": "python3"
  },
  "language_info": {
   "codemirror_mode": {
    "name": "ipython",
    "version": 3
   },
   "file_extension": ".py",
   "mimetype": "text/x-python",
   "name": "python",
   "nbconvert_exporter": "python",
   "pygments_lexer": "ipython3",
   "version": "3.10.9"
  }
 },
 "nbformat": 4,
 "nbformat_minor": 1
}
